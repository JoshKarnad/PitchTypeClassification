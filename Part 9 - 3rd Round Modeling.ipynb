{
 "cells": [
  {
   "cell_type": "code",
   "execution_count": 1,
   "metadata": {
    "collapsed": true
   },
   "outputs": [],
   "source": []
  },
  {
   "cell_type": "code",
   "execution_count": 2,
   "metadata": {
    "collapsed": true
   },
   "outputs": [],
   "source": [
    "# Dropping pitcher_id as an improvement. Would drop more given more time.\n",
    "df = pd.read_csv('modeling_round2.csv')\n",
    "df = df.drop(['Unnamed: 0', 'pitcher_id'], axis=1)"
   ]
  },
  {
   "cell_type": "code",
   "execution_count": 3,
   "metadata": {
    "collapsed": true
   },
   "outputs": [],
   "source": []
  },
  {
   "cell_type": "code",
   "execution_count": 4,
   "metadata": {
    "collapsed": true
   },
   "outputs": [],
   "source": []
  },
  {
   "cell_type": "code",
   "execution_count": 5,
   "metadata": {
    "collapsed": true
   },
   "outputs": [],
   "source": [
    "rfc = RandomForestClassifier(random_state=12)\n",
    "ridge = RidgeClassifier(random_state=12)"
   ]
  },
  {
   "cell_type": "code",
   "execution_count": 6,
   "metadata": {},
   "outputs": [
    {
     "name": "stdout",
     "output_type": "stream",
     "text": [
      "RandomForestClassifier(bootstrap=True, class_weight=None, criterion='gini',\n",
      "            max_depth=None, max_features='auto', max_leaf_nodes=None,\n",
      "            min_impurity_decrease=0.0, min_impurity_split=None,\n",
      "            min_samples_leaf=1, min_samples_split=2,\n",
      "            min_weight_fraction_leaf=0.0, n_estimators=10, n_jobs=1,\n",
      "            oob_score=False, random_state=12, verbose=0, warm_start=False)\n",
      "Accuracy: 0.458205522364\n",
      "F1 Macro: 0.385150027065\n",
      "F1 Micro: 0.458205522364\n",
      "F1 Weighted: 0.442751631981\n",
      "             precision    recall  f1-score   support\n",
      "\n",
      "         CH       0.27      0.22      0.25     43569\n",
      "         CU       0.29      0.24      0.26     33759\n",
      "         EP       0.08      0.01      0.02        84\n",
      "         FA       0.51      0.64      0.57    143423\n",
      "         FC       0.42      0.35      0.38     24964\n",
      "         FS       0.34      0.22      0.26      6297\n",
      "         FT       0.43      0.39      0.41     48718\n",
      "         IN       0.95      0.69      0.80      2417\n",
      "         KC       0.35      0.20      0.26      5123\n",
      "         KN       0.84      0.94      0.88      2666\n",
      "         PO       0.42      0.12      0.18       539\n",
      "         SC       0.36      0.14      0.20        73\n",
      "         SI       0.56      0.68      0.61     52506\n",
      "         SL       0.39      0.26      0.32     65859\n",
      "\n",
      "avg / total       0.44      0.46      0.44    429997\n",
      "\n"
     ]
    }
   ],
   "source": [
    "get_metrics(rfc, df_train)"
   ]
  },
  {
   "cell_type": "code",
   "execution_count": 7,
   "metadata": {},
   "outputs": [
    {
     "name": "stderr",
     "output_type": "stream",
     "text": [
      "/Users/joshuarkarnad/anaconda3/lib/python3.6/site-packages/sklearn/metrics/classification.py:1135: UndefinedMetricWarning: F-score is ill-defined and being set to 0.0 in labels with no predicted samples.\n",
      "  'precision', 'predicted', average, warn_for)\n"
     ]
    },
    {
     "name": "stdout",
     "output_type": "stream",
     "text": [
      "RidgeClassifier(alpha=1.0, class_weight=None, copy_X=True, fit_intercept=True,\n",
      "        max_iter=None, normalize=False, random_state=12, solver='auto',\n",
      "        tol=0.001)\n",
      "Accuracy: 0.482940578655\n",
      "F1 Macro: 0.325988761639\n",
      "F1 Micro: 0.482940578655\n",
      "F1 Weighted: 0.421518378768\n",
      "             precision    recall  f1-score   support\n",
      "\n",
      "         CH       0.34      0.06      0.10     43569\n",
      "         CU       0.40      0.07      0.12     33759\n",
      "         EP       0.00      0.00      0.00        84\n",
      "         FA       0.49      0.79      0.60    143423\n",
      "         FC       0.48      0.31      0.38     24964\n",
      "         FS       0.38      0.06      0.11      6297\n",
      "         FT       0.43      0.42      0.42     48718\n",
      "         IN       1.00      0.70      0.82      2417\n",
      "         KC       0.47      0.07      0.13      5123\n",
      "         KN       0.80      1.00      0.89      2666\n",
      "         PO       0.00      0.00      0.00       539\n",
      "         SC       0.31      0.05      0.09        73\n",
      "         SI       0.52      0.84      0.64     52506\n",
      "         SL       0.44      0.19      0.26     65859\n",
      "\n",
      "avg / total       0.46      0.48      0.42    429997\n",
      "\n"
     ]
    },
    {
     "name": "stderr",
     "output_type": "stream",
     "text": [
      "/Users/joshuarkarnad/anaconda3/lib/python3.6/site-packages/sklearn/metrics/classification.py:1135: UndefinedMetricWarning: Precision and F-score are ill-defined and being set to 0.0 in labels with no predicted samples.\n",
      "  'precision', 'predicted', average, warn_for)\n"
     ]
    }
   ],
   "source": [
    "get_metrics(ridge, df_train)"
   ]
  },
  {
   "cell_type": "code",
   "execution_count": 8,
   "metadata": {},
   "outputs": [
    {
     "data": {
      "image/png": "[encoded data removed]",
      "text/plain": [
       "<matplotlib.figure.Figure at 0x1067ac9b0>"
      ]
     },
     "metadata": {},
     "output_type": "display_data"
    }
   ],
   "source": [
    "rfc.fit(X_train, Y_train)\n",
    "feature_importance = rfc.feature_importances_\n",
    "feature_importance = 100.0 * (feature_importance / feature_importance.max())\n",
    "sorted_idx = np.argsort(feature_importance)[::-1]\n",
    "pos = np.arange(sorted_idx.shape[0]) + .5\n",
    "plt.subplot(1, 2, 2)\n",
    "plt.barh(pos[0:15], feature_importance[sorted_idx[0:15]], align='center')\n",
    "plt.yticks(pos[0:15], X_train.columns[sorted_idx[0:15]])\n",
    "plt.xlabel('Relative Importance')\n",
    "plt.title('Variable Importance Random Forest')\n",
    "plt.show()"
   ]
  },
  {
   "cell_type": "markdown",
   "metadata": {},
   "source": [
    "Again very slight improvements to round 2. If I were to do more modeling rounds I would keep reducing features. Some ideas I have to drop are previous_event and I can get rid of about 15 features there. It seems like none of the previous features I created added any value, so maybe I can toss almost all of them."
   ]
  },
  {
   "cell_type": "code",
   "execution_count": 9,
   "metadata": {
    "collapsed": true
   },
   "outputs": [],
   "source": [
    "df.to_csv('modeling_round3.csv', index=False)"
   ]
  },
  {
   "cell_type": "code",
   "execution_count": null,
   "metadata": {
    "collapsed": true
   },
   "outputs": [],
   "source": []
  }
 ],
 "metadata": {
  "kernelspec": {
   "display_name": "Python 3",
   "language": "python",
   "name": "python3"
  },
  "language_info": {
   "codemirror_mode": {
    "name": "ipython",
    "version": 3
   },
   "file_extension": ".py",
   "mimetype": "text/x-python",
   "name": "python",
   "nbconvert_exporter": "python",
   "pygments_lexer": "ipython3",
   "version": "3.6.3"
  }
 },
 "nbformat": 4,
 "nbformat_minor": 2
}
