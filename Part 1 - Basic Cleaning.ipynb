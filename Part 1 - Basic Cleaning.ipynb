{
 "cells": [
  {
   "cell_type": "code",
   "execution_count": 1,
   "metadata": {
    "collapsed": true
   },
   "outputs": [],
   "source": [
    "import pandas as pd\n",
    "import numpy as np\n",
    "import matplotlib as plt\n",
    "import seaborn as sns\n",
    "%matplotlib inline"
   ]
  },
  {
   "cell_type": "code",
   "execution_count": 2,
   "metadata": {},
   "outputs": [
    {
     "name": "stderr",
     "output_type": "stream",
     "text": [
      "/Users/joshuarkarnad/anaconda3/lib/python3.6/site-packages/IPython/core/interactiveshell.py:2698: DtypeWarning: Columns (29,30) have mixed types. Specify dtype option on import or set low_memory=False.\n",
      "  interactivity=interactivity, compiler=compiler, result=result)\n"
     ]
    }
   ],
   "source": [
    "df = pd.read_csv('Data/pitchesv1.csv')"
   ]
  },
  {
   "cell_type": "code",
   "execution_count": 3,
   "metadata": {},
   "outputs": [
    {
     "data": {
      "text/plain": [
       "(718961, 125)"
      ]
     },
     "execution_count": 3,
     "metadata": {},
     "output_type": "execute_result"
    }
   ],
   "source": [
    "df.shape"
   ]
  },
  {
   "cell_type": "code",
   "execution_count": 4,
   "metadata": {},
   "outputs": [
    {
     "data": {
      "text/plain": [
       "(718961, 76)"
      ]
     },
     "execution_count": 4,
     "metadata": {},
     "output_type": "execute_result"
    }
   ],
   "source": [
    "# Dropping features with all nulls\n",
    "df = df.dropna(axis=1, thresh=2)\n",
    "df.shape"
   ]
  },
  {
   "cell_type": "code",
   "execution_count": 5,
   "metadata": {},
   "outputs": [
    {
     "data": {
      "text/plain": [
       "(718961, 62)"
      ]
     },
     "execution_count": 5,
     "metadata": {},
     "output_type": "execute_result"
    }
   ],
   "source": [
    "# Dropping irrelevant features\n",
    "dropped_columns = ['pitch_tfs_zulu', 'pitch_tfs', 'final_outs', 'at_bat_des', \n",
    "                   'type_confidence', 'modified_by', 'modified_at', 'added_at',\n",
    "                  'date', 'sv_id', 'created_at', 'start_tfs', 'start_tfs_zulu', 'year']\n",
    "df = df.drop(dropped_columns, axis = 1)\n",
    "df.shape"
   ]
  },
  {
   "cell_type": "code",
   "execution_count": 6,
   "metadata": {},
   "outputs": [
    {
     "data": {
      "text/plain": [
       "event3          718627\n",
       "event2          710662\n",
       "cc              691024\n",
       "score           662865\n",
       "on_3b           647326\n",
       "on_2b           579258\n",
       "on_1b           502638\n",
       "pfx_x             2280\n",
       "x0                2280\n",
       "pz                2280\n",
       "px                2280\n",
       "start_speed       2280\n",
       "sz_bot            2280\n",
       "sz_top            2280\n",
       "end_speed         2280\n",
       "y0                2280\n",
       "z0                2280\n",
       "pfx_z             2280\n",
       "vx0               2280\n",
       "break_y           2280\n",
       "nasty             2280\n",
       "zone              2280\n",
       "vz0               2280\n",
       "pitch_type        2280\n",
       "spin_rate         2280\n",
       "break_angle       2280\n",
       "spin_dir          2280\n",
       "break_length      2280\n",
       "ay                2280\n",
       "dtype: int64"
      ]
     },
     "execution_count": 6,
     "metadata": {},
     "output_type": "execute_result"
    }
   ],
   "source": [
    "df.isnull().sum().sort_values(ascending=False)[1:30]"
   ]
  },
  {
   "cell_type": "code",
   "execution_count": 7,
   "metadata": {},
   "outputs": [
    {
     "data": {
      "text/plain": [
       "(718961, 62)"
      ]
     },
     "execution_count": 7,
     "metadata": {},
     "output_type": "execute_result"
    }
   ],
   "source": [
    "# Turning Features that are objects into binary features IE 'R' or 'L' to 1 and 0\n",
    "df['score'] = df.score.fillna(0)\n",
    "df['on_1b'] = df.on_1b.fillna(0)\n",
    "df['on_2b'] = df.on_2b.fillna(0)\n",
    "df['on_3b'] = df.on_3b.fillna(0)\n",
    "df['score'] = (df['score'] != 0).astype(int)\n",
    "df['on_1b'] = (df['on_1b'] > 0).astype(int)\n",
    "df['on_2b'] = (df['on_2b'] > 0).astype(int)\n",
    "df['on_3b'] = (df['on_3b'] > 0).astype(int)\n",
    "df['score'] = (df['score'] != 0).astype(int)\n",
    "df['right_side_plate'] = (df['stand'] == 'R').astype(int)\n",
    "df['right_handed_pitcher'] = (df['p_throws'] == 'R').astype(int)\n",
    "df = df.drop(['stand','p_throws'], axis = 1)\n",
    "df.shape"
   ]
  },
  {
   "cell_type": "code",
   "execution_count": 8,
   "metadata": {},
   "outputs": [
    {
     "data": {
      "text/plain": [
       "event4                  716658\n",
       "event3                  716347\n",
       "event2                  708400\n",
       "cc                      688776\n",
       "right_handed_pitcher         0\n",
       "final_balls                  0\n",
       "pitch_id                     0\n",
       "pitch_des                    0\n",
       "score                        0\n",
       "home_team_runs               0\n",
       "dtype: int64"
      ]
     },
     "execution_count": 8,
     "metadata": {},
     "output_type": "execute_result"
    }
   ],
   "source": [
    "#Removing null rows for pitch_type (outcome variable)\n",
    "df = df[pd.notnull(df['pitch_type'])]\n",
    "df.isnull().sum().sort_values(ascending=False)[0:10]"
   ]
  },
  {
   "cell_type": "code",
   "execution_count": 10,
   "metadata": {
    "collapsed": true
   },
   "outputs": [],
   "source": [
    "# Turning Batter Height from Object into Integer\n",
    "def parse_ht(ht):\n",
    "    ht_ = ht.split(\"-\")\n",
    "    ft_ = int(ht_[0])\n",
    "    in_ = int(ht_[1].replace(\"\\\"\",\"\"))\n",
    "    return (12*ft_) + in_\n",
    "\n",
    "df['batter_height_inches'] = (df['b_height'].apply(lambda x:parse_ht(x))).astype(int)\n",
    "df = df.drop('b_height', axis = 1)"
   ]
  },
  {
   "cell_type": "code",
   "execution_count": 12,
   "metadata": {
    "collapsed": true
   },
   "outputs": [],
   "source": [
    "df.to_csv('Data/pitchesv2.csv', index=False)"
   ]
  }
 ],
 "metadata": {
  "kernelspec": {
   "display_name": "Python 3",
   "language": "python",
   "name": "python3"
  },
  "language_info": {
   "codemirror_mode": {
    "name": "ipython",
    "version": 3
   },
   "file_extension": ".py",
   "mimetype": "text/x-python",
   "name": "python",
   "nbconvert_exporter": "python",
   "pygments_lexer": "ipython3",
   "version": "3.6.3"
  }
 },
 "nbformat": 4,
 "nbformat_minor": 2
}
