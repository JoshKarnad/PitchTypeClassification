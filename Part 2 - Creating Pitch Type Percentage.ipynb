{
 "cells": [
  {
   "cell_type": "code",
   "execution_count": 1,
   "metadata": {
    "collapsed": true
   },
   "outputs": [],
   "source": [
    "import pandas as pd\n",
    "import numpy as np\n",
    "import matplotlib as plt\n",
    "import seaborn as sns\n",
    "%matplotlib inline"
   ]
  },
  {
   "cell_type": "code",
   "execution_count": 2,
   "metadata": {},
   "outputs": [
    {
     "name": "stderr",
     "output_type": "stream",
     "text": [
      "/Users/joshuarkarnad/anaconda3/lib/python3.6/site-packages/IPython/core/interactiveshell.py:2698: DtypeWarning: Columns (20,21) have mixed types. Specify dtype option on import or set low_memory=False.\n",
      "  interactivity=interactivity, compiler=compiler, result=result)\n"
     ]
    }
   ],
   "source": [
    "df = pd.read_csv('Data/pitchesv2.csv')"
   ]
  },
  {
   "cell_type": "code",
   "execution_count": 3,
   "metadata": {},
   "outputs": [
    {
     "data": {
      "text/plain": [
       "FF    238541\n",
       "SL    109756\n",
       "SI     87740\n",
       "FT     81056\n",
       "CH     72641\n",
       "CU     56379\n",
       "FC     41702\n",
       "FS     10503\n",
       "KC      8490\n",
       "KN      4450\n",
       "IN      4058\n",
       "PO       559\n",
       "FO       329\n",
       "FA       204\n",
       "EP       134\n",
       "SC       120\n",
       "UN        17\n",
       "AB         2\n",
       "Name: pitch_type, dtype: int64"
      ]
     },
     "execution_count": 3,
     "metadata": {},
     "output_type": "execute_result"
    }
   ],
   "source": [
    "df.pitch_type.value_counts()"
   ]
  },
  {
   "cell_type": "code",
   "execution_count": 4,
   "metadata": {
    "collapsed": true
   },
   "outputs": [],
   "source": [
    "# Dropping pitch AB and UN due to low value counts\n",
    "# Replacing FO and FF due to \n",
    "# https://www.fangraphs.com/library/pitch-type-abbreviations-classifications/\n",
    "\n",
    "df = df[df['pitch_type'] != 'AB']\n",
    "df = df[df['pitch_type'] != 'UN']\n",
    "df = df.replace('FF', 'FA')\n",
    "df = df.replace('FO', 'PO')"
   ]
  },
  {
   "cell_type": "code",
   "execution_count": 5,
   "metadata": {},
   "outputs": [
    {
     "data": {
      "text/plain": [
       "FA    238745\n",
       "SL    109756\n",
       "SI     87740\n",
       "FT     81056\n",
       "CH     72641\n",
       "CU     56379\n",
       "FC     41702\n",
       "FS     10503\n",
       "KC      8490\n",
       "KN      4450\n",
       "IN      4058\n",
       "PO       888\n",
       "EP       134\n",
       "SC       120\n",
       "Name: pitch_type, dtype: int64"
      ]
     },
     "execution_count": 5,
     "metadata": {},
     "output_type": "execute_result"
    }
   ],
   "source": [
    "# Checking to see if above cell worked\n",
    "df.pitch_type.value_counts()"
   ]
  },
  {
   "cell_type": "code",
   "execution_count": 7,
   "metadata": {},
   "outputs": [
    {
     "data": {
      "text/html": [
       "<div>\n",
       "<style>\n",
       "    .dataframe thead tr:only-child th {\n",
       "        text-align: right;\n",
       "    }\n",
       "\n",
       "    .dataframe thead th {\n",
       "        text-align: left;\n",
       "    }\n",
       "\n",
       "    .dataframe tbody tr th {\n",
       "        vertical-align: top;\n",
       "    }\n",
       "</style>\n",
       "<table border=\"1\" class=\"dataframe\">\n",
       "  <thead>\n",
       "    <tr style=\"text-align: right;\">\n",
       "      <th></th>\n",
       "      <th>pitcher_id</th>\n",
       "      <th>pitch_type</th>\n",
       "    </tr>\n",
       "  </thead>\n",
       "  <tbody>\n",
       "    <tr>\n",
       "      <th>0</th>\n",
       "      <td>450308</td>\n",
       "      <td>FA</td>\n",
       "    </tr>\n",
       "    <tr>\n",
       "      <th>1</th>\n",
       "      <td>450308</td>\n",
       "      <td>FA</td>\n",
       "    </tr>\n",
       "    <tr>\n",
       "      <th>2</th>\n",
       "      <td>450308</td>\n",
       "      <td>FA</td>\n",
       "    </tr>\n",
       "    <tr>\n",
       "      <th>3</th>\n",
       "      <td>450308</td>\n",
       "      <td>FA</td>\n",
       "    </tr>\n",
       "    <tr>\n",
       "      <th>4</th>\n",
       "      <td>450308</td>\n",
       "      <td>FA</td>\n",
       "    </tr>\n",
       "  </tbody>\n",
       "</table>\n",
       "</div>"
      ],
      "text/plain": [
       "   pitcher_id pitch_type\n",
       "0      450308         FA\n",
       "1      450308         FA\n",
       "2      450308         FA\n",
       "3      450308         FA\n",
       "4      450308         FA"
      ]
     },
     "execution_count": 7,
     "metadata": {},
     "output_type": "execute_result"
    }
   ],
   "source": [
    "pitchers_id_type = df[['pitcher_id', 'pitch_type']]\n",
    "pitchers_id_type.head()"
   ]
  },
  {
   "cell_type": "code",
   "execution_count": 9,
   "metadata": {},
   "outputs": [
    {
     "data": {
      "text/html": [
       "<div>\n",
       "<style>\n",
       "    .dataframe thead tr:only-child th {\n",
       "        text-align: right;\n",
       "    }\n",
       "\n",
       "    .dataframe thead th {\n",
       "        text-align: left;\n",
       "    }\n",
       "\n",
       "    .dataframe tbody tr th {\n",
       "        vertical-align: top;\n",
       "    }\n",
       "</style>\n",
       "<table border=\"1\" class=\"dataframe\">\n",
       "  <thead>\n",
       "    <tr style=\"text-align: right;\">\n",
       "      <th></th>\n",
       "      <th>percentage_CH</th>\n",
       "      <th>percentage_CU</th>\n",
       "      <th>percentage_EP</th>\n",
       "      <th>percentage_FA</th>\n",
       "      <th>percentage_FC</th>\n",
       "      <th>percentage_FS</th>\n",
       "      <th>percentage_FT</th>\n",
       "      <th>percentage_IN</th>\n",
       "      <th>percentage_KC</th>\n",
       "      <th>percentage_KN</th>\n",
       "      <th>percentage_PO</th>\n",
       "      <th>percentage_SC</th>\n",
       "      <th>percentage_SI</th>\n",
       "      <th>percentage_SL</th>\n",
       "    </tr>\n",
       "    <tr>\n",
       "      <th>pitcher_id</th>\n",
       "      <th></th>\n",
       "      <th></th>\n",
       "      <th></th>\n",
       "      <th></th>\n",
       "      <th></th>\n",
       "      <th></th>\n",
       "      <th></th>\n",
       "      <th></th>\n",
       "      <th></th>\n",
       "      <th></th>\n",
       "      <th></th>\n",
       "      <th></th>\n",
       "      <th></th>\n",
       "      <th></th>\n",
       "    </tr>\n",
       "  </thead>\n",
       "  <tbody>\n",
       "    <tr>\n",
       "      <th>110683</th>\n",
       "      <td>0.032653</td>\n",
       "      <td>0.007143</td>\n",
       "      <td>0.0</td>\n",
       "      <td>0.236735</td>\n",
       "      <td>0.002041</td>\n",
       "      <td>0.0</td>\n",
       "      <td>0.000000</td>\n",
       "      <td>0.018367</td>\n",
       "      <td>0.0</td>\n",
       "      <td>0.0</td>\n",
       "      <td>0.001020</td>\n",
       "      <td>0.0</td>\n",
       "      <td>0.459184</td>\n",
       "      <td>0.242857</td>\n",
       "    </tr>\n",
       "    <tr>\n",
       "      <th>112020</th>\n",
       "      <td>0.020492</td>\n",
       "      <td>0.204195</td>\n",
       "      <td>0.0</td>\n",
       "      <td>0.162247</td>\n",
       "      <td>0.261090</td>\n",
       "      <td>0.0</td>\n",
       "      <td>0.000000</td>\n",
       "      <td>0.005063</td>\n",
       "      <td>0.0</td>\n",
       "      <td>0.0</td>\n",
       "      <td>0.000723</td>\n",
       "      <td>0.0</td>\n",
       "      <td>0.346191</td>\n",
       "      <td>0.000000</td>\n",
       "    </tr>\n",
       "    <tr>\n",
       "      <th>112526</th>\n",
       "      <td>0.041551</td>\n",
       "      <td>0.000000</td>\n",
       "      <td>0.0</td>\n",
       "      <td>0.410368</td>\n",
       "      <td>0.000000</td>\n",
       "      <td>0.0</td>\n",
       "      <td>0.417095</td>\n",
       "      <td>0.003562</td>\n",
       "      <td>0.0</td>\n",
       "      <td>0.0</td>\n",
       "      <td>0.000791</td>\n",
       "      <td>0.0</td>\n",
       "      <td>0.000000</td>\n",
       "      <td>0.126632</td>\n",
       "    </tr>\n",
       "    <tr>\n",
       "      <th>115629</th>\n",
       "      <td>0.012361</td>\n",
       "      <td>0.113721</td>\n",
       "      <td>0.0</td>\n",
       "      <td>0.624227</td>\n",
       "      <td>0.000000</td>\n",
       "      <td>0.0</td>\n",
       "      <td>0.007417</td>\n",
       "      <td>0.006180</td>\n",
       "      <td>0.0</td>\n",
       "      <td>0.0</td>\n",
       "      <td>0.000000</td>\n",
       "      <td>0.0</td>\n",
       "      <td>0.000000</td>\n",
       "      <td>0.236094</td>\n",
       "    </tr>\n",
       "    <tr>\n",
       "      <th>115817</th>\n",
       "      <td>0.097098</td>\n",
       "      <td>0.148810</td>\n",
       "      <td>0.0</td>\n",
       "      <td>0.129836</td>\n",
       "      <td>0.000000</td>\n",
       "      <td>0.0</td>\n",
       "      <td>0.000000</td>\n",
       "      <td>0.008929</td>\n",
       "      <td>0.0</td>\n",
       "      <td>0.0</td>\n",
       "      <td>0.000744</td>\n",
       "      <td>0.0</td>\n",
       "      <td>0.346354</td>\n",
       "      <td>0.268229</td>\n",
       "    </tr>\n",
       "  </tbody>\n",
       "</table>\n",
       "</div>"
      ],
      "text/plain": [
       "            percentage_CH  percentage_CU  percentage_EP  percentage_FA  \\\n",
       "pitcher_id                                                               \n",
       "110683           0.032653       0.007143            0.0       0.236735   \n",
       "112020           0.020492       0.204195            0.0       0.162247   \n",
       "112526           0.041551       0.000000            0.0       0.410368   \n",
       "115629           0.012361       0.113721            0.0       0.624227   \n",
       "115817           0.097098       0.148810            0.0       0.129836   \n",
       "\n",
       "            percentage_FC  percentage_FS  percentage_FT  percentage_IN  \\\n",
       "pitcher_id                                                               \n",
       "110683           0.002041            0.0       0.000000       0.018367   \n",
       "112020           0.261090            0.0       0.000000       0.005063   \n",
       "112526           0.000000            0.0       0.417095       0.003562   \n",
       "115629           0.000000            0.0       0.007417       0.006180   \n",
       "115817           0.000000            0.0       0.000000       0.008929   \n",
       "\n",
       "            percentage_KC  percentage_KN  percentage_PO  percentage_SC  \\\n",
       "pitcher_id                                                               \n",
       "110683                0.0            0.0       0.001020            0.0   \n",
       "112020                0.0            0.0       0.000723            0.0   \n",
       "112526                0.0            0.0       0.000791            0.0   \n",
       "115629                0.0            0.0       0.000000            0.0   \n",
       "115817                0.0            0.0       0.000744            0.0   \n",
       "\n",
       "            percentage_SI  percentage_SL  \n",
       "pitcher_id                                \n",
       "110683           0.459184       0.242857  \n",
       "112020           0.346191       0.000000  \n",
       "112526           0.000000       0.126632  \n",
       "115629           0.000000       0.236094  \n",
       "115817           0.346354       0.268229  "
      ]
     },
     "execution_count": 9,
     "metadata": {},
     "output_type": "execute_result"
    }
   ],
   "source": [
    "# Grouping by pitcher id and then seeing the percentage a certain ball is thrown\n",
    "# in 2011 season. Should be really helpful by allowing the model to not even consider\n",
    "# certain choices like 'AB' type pitch for the first five pitcher ids\n",
    "\n",
    "pitchers_id_type = pitchers_id_type.rename(index=str, \n",
    "                                           columns={'pitch_type' : 'percentage'})\n",
    "pitchers_id_type = pd.get_dummies(pitchers_id_type)\n",
    "pitchers_id_type = pitchers_id_type.groupby(['pitcher_id']).mean()\n",
    "pitchers_id_type.head()"
   ]
  },
  {
   "cell_type": "code",
   "execution_count": 10,
   "metadata": {
    "collapsed": true
   },
   "outputs": [],
   "source": [
    "df.to_csv('Data/pitchesv2.csv', index=False)\n",
    "pitchers_id_type.to_csv('Data/percentages.csv')"
   ]
  },
  {
   "cell_type": "code",
   "execution_count": 11,
   "metadata": {
    "collapsed": true
   },
   "outputs": [],
   "source": []
  },
  {
   "cell_type": "code",
   "execution_count": null,
   "metadata": {
    "collapsed": true
   },
   "outputs": [],
   "source": []
  }
 ],
 "metadata": {
  "kernelspec": {
   "display_name": "Python 3",
   "language": "python",
   "name": "python3"
  },
  "language_info": {
   "codemirror_mode": {
    "name": "ipython",
    "version": 3
   },
   "file_extension": ".py",
   "mimetype": "text/x-python",
   "name": "python",
   "nbconvert_exporter": "python",
   "pygments_lexer": "ipython3",
   "version": "3.6.3"
  }
 },
 "nbformat": 4,
 "nbformat_minor": 2
}
