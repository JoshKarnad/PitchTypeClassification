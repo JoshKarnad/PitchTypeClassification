{
 "cells": [
  {
   "cell_type": "code",
   "execution_count": 1,
   "metadata": {
    "collapsed": true
   },
   "outputs": [],
   "source": []
  },
  {
   "cell_type": "code",
   "execution_count": 2,
   "metadata": {
    "collapsed": true
   },
   "outputs": [],
   "source": [
    "df = pd.read_csv('modelingv2.csv')"
   ]
  },
  {
   "cell_type": "code",
   "execution_count": 3,
   "metadata": {
    "collapsed": true
   },
   "outputs": [],
   "source": [
    "# Splitting, decided on 60 - 40 split due to having to work with a huge training set\n",
    "# Would usually do 80 - 20 but the data set is very intense for my cpu\n",
    "\n",
    "df_train, df_test = train_test_split(df, test_size=0.4, random_state = 12)\n",
    "X_train = df_train.loc[:, ~(df_train.columns).isin(['pitch_type'])]\n",
    "Y_train = df_train['pitch_type']\n",
    "X_test = df_test.loc[:, ~(df_test.columns).isin(['pitch_type'])]\n",
    "Y_test = df_test['pitch_type']"
   ]
  },
  {
   "cell_type": "code",
   "execution_count": 6,
   "metadata": {
    "collapsed": true
   },
   "outputs": [],
   "source": [
    "def get_metrics(model, dataframe):\n",
    "    x = dataframe.loc[:, ~(df_train.columns).isin(['pitch_type'])]\n",
    "    y = dataframe['pitch_type']\n",
    "    y_pred = cross_val_predict(model, x, y, cv = 3)\n",
    "    accuracy = accuracy_score(y, y_pred)\n",
    "    macro = f1_score(y, y_pred, average='macro')\n",
    "    micro = f1_score(y, y_pred, average='micro')\n",
    "    weighted = f1_score(y, y_pred, average='weighted')\n",
    "    print(model)\n",
    "    print('Accuracy:', accuracy)\n",
    "    print('F1 Macro:', macro)\n",
    "    print('F1 Micro:', micro)\n",
    "    print('F1 Weighted:', weighted)\n",
    "    print(classification_report(y, y_pred))"
   ]
  },
  {
   "cell_type": "code",
   "execution_count": 10,
   "metadata": {
    "collapsed": true
   },
   "outputs": [],
   "source": [
    "# Would have used Gradient Boosting Classifier but the kernal kept crashing\n",
    "# My strategy while modeling is to use the default parameters to see if I can drop\n",
    "# Any models for next round\n",
    "\n",
    "adac = AdaBoostClassifier(random_state = 12)\n",
    "rfc = RandomForestClassifier(random_state=12)\n",
    "mlp = MLPClassifier(random_state=12)\n",
    "ridge = RidgeClassifier(random_state=12)"
   ]
  },
  {
   "cell_type": "code",
   "execution_count": 13,
   "metadata": {},
   "outputs": [
    {
     "name": "stdout",
     "output_type": "stream",
     "text": [
      "RandomForestClassifier(bootstrap=True, class_weight=None, criterion='gini',\n",
      "            max_depth=None, max_features='auto', max_leaf_nodes=None,\n",
      "            min_impurity_decrease=0.0, min_impurity_split=None,\n",
      "            min_samples_leaf=1, min_samples_split=2,\n",
      "            min_weight_fraction_leaf=0.0, n_estimators=10, n_jobs=1,\n",
      "            oob_score=False, random_state=12, verbose=0, warm_start=False)\n",
      "Accuracy: 0.457414819173\n",
      "F1 Macro: 0.378668477829\n",
      "F1 Micro: 0.457414819173\n",
      "F1 Weighted: 0.442087767261\n",
      "             precision    recall  f1-score   support\n",
      "\n",
      "         CH       0.27      0.22      0.24     43569\n",
      "         CU       0.29      0.24      0.26     33759\n",
      "         EP       0.00      0.00      0.00        84\n",
      "         FA       0.51      0.64      0.57    143423\n",
      "         FC       0.42      0.34      0.38     24964\n",
      "         FS       0.34      0.21      0.26      6297\n",
      "         FT       0.43      0.39      0.41     48718\n",
      "         IN       0.96      0.69      0.80      2417\n",
      "         KC       0.35      0.20      0.25      5123\n",
      "         KN       0.84      0.92      0.88      2666\n",
      "         PO       0.48      0.12      0.19       539\n",
      "         SC       0.25      0.10      0.14        73\n",
      "         SI       0.56      0.67      0.61     52506\n",
      "         SL       0.39      0.26      0.31     65859\n",
      "\n",
      "avg / total       0.44      0.46      0.44    429997\n",
      "\n"
     ]
    }
   ],
   "source": [
    "get_metrics(rfc, df_train)"
   ]
  },
  {
   "cell_type": "code",
   "execution_count": 14,
   "metadata": {},
   "outputs": [
    {
     "data": {
      "image/png": "[encoded data removed]",
      "text/plain": [
       "<matplotlib.figure.Figure at 0x1a164021d0>"
      ]
     },
     "metadata": {},
     "output_type": "display_data"
    }
   ],
   "source": [
    "rfc.fit(X_train, Y_train)\n",
    "feature_importance = rfc.feature_importances_\n",
    "feature_importance = 100.0 * (feature_importance / feature_importance.max())\n",
    "sorted_idx = np.argsort(feature_importance)[::-1]\n",
    "pos = np.arange(sorted_idx.shape[0]) + .5\n",
    "plt.subplot(1, 2, 2)\n",
    "plt.barh(pos[0:15], feature_importance[sorted_idx[0:15]], align='center')\n",
    "plt.yticks(pos[0:15], X_train.columns[sorted_idx[0:15]])\n",
    "plt.xlabel('Relative Importance')\n",
    "plt.title('Variable Importance Random Forest')\n",
    "plt.show()"
   ]
  },
  {
   "cell_type": "code",
   "execution_count": 15,
   "metadata": {},
   "outputs": [
    {
     "name": "stderr",
     "output_type": "stream",
     "text": [
      "/Users/joshuarkarnad/anaconda3/lib/python3.6/site-packages/sklearn/metrics/classification.py:1135: UndefinedMetricWarning: F-score is ill-defined and being set to 0.0 in labels with no predicted samples.\n",
      "  'precision', 'predicted', average, warn_for)\n"
     ]
    },
    {
     "name": "stdout",
     "output_type": "stream",
     "text": [
      "MLPClassifier(activation='relu', alpha=0.0001, batch_size='auto', beta_1=0.9,\n",
      "       beta_2=0.999, early_stopping=False, epsilon=1e-08,\n",
      "       hidden_layer_sizes=(100,), learning_rate='constant',\n",
      "       learning_rate_init=0.001, max_iter=200, momentum=0.9,\n",
      "       nesterovs_momentum=True, power_t=0.5, random_state=12, shuffle=True,\n",
      "       solver='adam', tol=0.0001, validation_fraction=0.1, verbose=False,\n",
      "       warm_start=False)\n",
      "Accuracy: 0.333544187518\n",
      "F1 Macro: 0.035731226675\n",
      "F1 Micro: 0.333544187518\n",
      "F1 Weighted: 0.166851201585\n",
      "             precision    recall  f1-score   support\n",
      "\n",
      "         CH       0.00      0.00      0.00     43569\n",
      "         CU       0.00      0.00      0.00     33759\n",
      "         EP       0.00      0.00      0.00        84\n",
      "         FA       0.33      1.00      0.50    143423\n",
      "         FC       0.00      0.00      0.00     24964\n",
      "         FS       0.00      0.00      0.00      6297\n",
      "         FT       0.00      0.00      0.00     48718\n",
      "         IN       0.00      0.00      0.00      2417\n",
      "         KC       0.00      0.00      0.00      5123\n",
      "         KN       0.00      0.00      0.00      2666\n",
      "         PO       0.00      0.00      0.00       539\n",
      "         SC       0.00      0.00      0.00        73\n",
      "         SI       0.00      0.00      0.00     52506\n",
      "         SL       0.00      0.00      0.00     65859\n",
      "\n",
      "avg / total       0.11      0.33      0.17    429997\n",
      "\n"
     ]
    },
    {
     "name": "stderr",
     "output_type": "stream",
     "text": [
      "/Users/joshuarkarnad/anaconda3/lib/python3.6/site-packages/sklearn/metrics/classification.py:1135: UndefinedMetricWarning: Precision and F-score are ill-defined and being set to 0.0 in labels with no predicted samples.\n",
      "  'precision', 'predicted', average, warn_for)\n"
     ]
    }
   ],
   "source": [
    "get_metrics(mlp, df_train)"
   ]
  },
  {
   "cell_type": "code",
   "execution_count": 18,
   "metadata": {},
   "outputs": [
    {
     "name": "stderr",
     "output_type": "stream",
     "text": [
      "/Users/joshuarkarnad/anaconda3/lib/python3.6/site-packages/sklearn/metrics/classification.py:1135: UndefinedMetricWarning: F-score is ill-defined and being set to 0.0 in labels with no predicted samples.\n",
      "  'precision', 'predicted', average, warn_for)\n"
     ]
    },
    {
     "name": "stdout",
     "output_type": "stream",
     "text": [
      "RidgeClassifier(alpha=1.0, class_weight=None, copy_X=True, fit_intercept=True,\n",
      "        max_iter=None, normalize=False, random_state=None, solver='auto',\n",
      "        tol=0.001)\n",
      "Accuracy: 0.48288708991\n",
      "F1 Macro: 0.326031173343\n",
      "F1 Micro: 0.48288708991\n",
      "F1 Weighted: 0.421480191417\n",
      "             precision    recall  f1-score   support\n",
      "\n",
      "         CH       0.34      0.06      0.10     43569\n",
      "         CU       0.40      0.07      0.12     33759\n",
      "         EP       0.00      0.00      0.00        84\n",
      "         FA       0.49      0.79      0.60    143423\n",
      "         FC       0.48      0.31      0.38     24964\n",
      "         FS       0.38      0.06      0.11      6297\n",
      "         FT       0.43      0.42      0.42     48718\n",
      "         IN       1.00      0.70      0.82      2417\n",
      "         KC       0.47      0.08      0.13      5123\n",
      "         KN       0.80      1.00      0.89      2666\n",
      "         PO       0.00      0.00      0.00       539\n",
      "         SC       0.31      0.05      0.09        73\n",
      "         SI       0.52      0.84      0.64     52506\n",
      "         SL       0.44      0.19      0.26     65859\n",
      "\n",
      "avg / total       0.46      0.48      0.42    429997\n",
      "\n"
     ]
    },
    {
     "name": "stderr",
     "output_type": "stream",
     "text": [
      "/Users/joshuarkarnad/anaconda3/lib/python3.6/site-packages/sklearn/metrics/classification.py:1135: UndefinedMetricWarning: Precision and F-score are ill-defined and being set to 0.0 in labels with no predicted samples.\n",
      "  'precision', 'predicted', average, warn_for)\n"
     ]
    }
   ],
   "source": [
    "get_metrics(ridge, df_train)"
   ]
  },
  {
   "cell_type": "code",
   "execution_count": 21,
   "metadata": {},
   "outputs": [
    {
     "name": "stderr",
     "output_type": "stream",
     "text": [
      "/Users/joshuarkarnad/anaconda3/lib/python3.6/site-packages/sklearn/metrics/classification.py:1135: UndefinedMetricWarning: F-score is ill-defined and being set to 0.0 in labels with no predicted samples.\n",
      "  'precision', 'predicted', average, warn_for)\n"
     ]
    },
    {
     "name": "stdout",
     "output_type": "stream",
     "text": [
      "AdaBoostClassifier(algorithm='SAMME.R', base_estimator=None,\n",
      "          learning_rate=1.0, n_estimators=50, random_state=None)\n",
      "Accuracy: 0.422007595402\n",
      "F1 Macro: 0.145682948926\n",
      "F1 Micro: 0.422007595402\n",
      "F1 Weighted: 0.269094850098\n",
      "             precision    recall  f1-score   support\n",
      "\n",
      "         CH       0.00      0.00      0.00     43569\n",
      "         CU       0.23      0.00      0.00     33759\n",
      "         EP       0.00      0.00      0.00        84\n",
      "         FA       0.41      0.91      0.56    143423\n",
      "         FC       0.00      0.00      0.00     24964\n",
      "         FS       0.00      0.00      0.00      6297\n",
      "         FT       0.27      0.00      0.01     48718\n",
      "         IN       0.00      0.00      0.00      2417\n",
      "         KC       0.00      0.00      0.00      5123\n",
      "         KN       0.79      0.66      0.72      2666\n",
      "         PO       0.00      0.00      0.00       539\n",
      "         SC       0.09      0.18      0.12        73\n",
      "         SI       0.47      0.92      0.62     52506\n",
      "         SL       0.00      0.00      0.00     65859\n",
      "\n",
      "avg / total       0.25      0.42      0.27    429997\n",
      "\n"
     ]
    },
    {
     "name": "stderr",
     "output_type": "stream",
     "text": [
      "/Users/joshuarkarnad/anaconda3/lib/python3.6/site-packages/sklearn/metrics/classification.py:1135: UndefinedMetricWarning: Precision and F-score are ill-defined and being set to 0.0 in labels with no predicted samples.\n",
      "  'precision', 'predicted', average, warn_for)\n"
     ]
    }
   ],
   "source": [
    "get_metrics(adac, df_train)"
   ]
  },
  {
   "cell_type": "markdown",
   "metadata": {},
   "source": [
    "<h1> Round 1 Conclusion </h1>\n",
    "\n",
    "Best performing models are RandomForest and RidgeClassifier due to highest accuracy, precision, and recall scores.  While Adaboost performed ok, it's not worth the time or computing power to run it on round 2. MLP by far the worst. The MLP model got the same accuracy score as someone guessing Fastball everytime."
   ]
  },
  {
   "cell_type": "code",
   "execution_count": null,
   "metadata": {
    "collapsed": true
   },
   "outputs": [],
   "source": []
  }
 ],
 "metadata": {
  "kernelspec": {
   "display_name": "Python 3",
   "language": "python",
   "name": "python3"
  },
  "language_info": {
   "codemirror_mode": {
    "name": "ipython",
    "version": 3
   },
   "file_extension": ".py",
   "mimetype": "text/x-python",
   "name": "python",
   "nbconvert_exporter": "python",
   "pygments_lexer": "ipython3",
   "version": "3.6.3"
  }
 },
 "nbformat": 4,
 "nbformat_minor": 2
}
